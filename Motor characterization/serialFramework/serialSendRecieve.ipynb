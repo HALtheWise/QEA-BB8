{
 "cells": [
  {
   "cell_type": "code",
   "execution_count": 1,
   "metadata": {
    "collapsed": true
   },
   "outputs": [],
   "source": [
    "import serial\n",
    "import time"
   ]
  },
  {
   "cell_type": "code",
   "execution_count": 2,
   "metadata": {
    "collapsed": false
   },
   "outputs": [],
   "source": [
    "ser = serial.Serial('/dev/ttyACM0', 9600)"
   ]
  },
  {
   "cell_type": "code",
   "execution_count": 3,
   "metadata": {
    "collapsed": true
   },
   "outputs": [],
   "source": [
    "def bitsToNumberList(msg):\n",
    "    msg = msg.rstrip(b'\\r\\n')\n",
    "    msg = msg.rsplit(b',')\n",
    "\n",
    "    return_numbers = []\n",
    "\n",
    "    for number in msg:\n",
    "        try:\n",
    "            return_numbers.append(int(number))\n",
    "        except:\n",
    "            return_numbers.append(float(number))\n",
    "            \n",
    "    return return_numbers"
   ]
  },
  {
   "cell_type": "code",
   "execution_count": 4,
   "metadata": {
    "collapsed": true
   },
   "outputs": [],
   "source": [
    "desiredTemp = 200\n",
    "desiredSpeed = int(.33 * 256)\n",
    "onOff = 0\n",
    "P = 10\n",
    "I = int(.05 * 256)"
   ]
  },
  {
   "cell_type": "code",
   "execution_count": 5,
   "metadata": {
    "collapsed": false
   },
   "outputs": [
    {
     "name": "stdout",
     "output_type": "stream",
     "text": [
      "Python value sent: \n",
      "[200, 84, 0, 10, 12]\n",
      "Message from arduino: \n",
      "[219.0, 0.0]\n",
      "Python value sent: \n",
      "[200, 84, 0, 10, 12]\n",
      "Message from arduino: \n",
      "[24.0, 1.0]\n",
      "Python value sent: \n",
      "[200, 84, 0, 10, 12]\n",
      "Message from arduino: \n",
      "[22.0, 4.0]\n",
      "Python value sent: \n",
      "[200, 84, 0, 10, 12]\n",
      "Message from arduino: \n",
      "[19.0, 5.0]\n",
      "Python value sent: \n",
      "[200, 84, 0, 10, 12]\n",
      "Message from arduino: \n",
      "[22.0, 3.0]\n",
      "Python value sent: \n",
      "[200, 84, 0, 10, 12]\n",
      "Message from arduino: \n",
      "[20.0, 3.0]\n",
      "Python value sent: \n",
      "[200, 84, 0, 10, 12]\n",
      "Message from arduino: \n",
      "[17.0, 1.0]\n",
      "Python value sent: \n",
      "[200, 84, 0, 10, 12]\n",
      "Message from arduino: \n",
      "[20.0, 8.0]\n",
      "Python value sent: \n",
      "[200, 84, 0, 10, 12]\n",
      "Message from arduino: \n",
      "[18.0, 9.0]\n",
      "Python value sent: \n",
      "[200, 84, 0, 10, 12]\n",
      "Message from arduino: \n",
      "[22.0, 2.0]\n",
      "Python value sent: \n",
      "[200, 84, 0, 10, 12]\n",
      "Message from arduino: \n",
      "[27.0, 2.0]\n",
      "Python value sent: \n",
      "[200, 84, 0, 10, 12]\n",
      "Message from arduino: \n",
      "[30.0, 5.0]\n",
      "Python value sent: \n",
      "[200, 84, 0, 10, 12]\n",
      "Message from arduino: \n",
      "[34.0, 4.0]\n",
      "Python value sent: \n",
      "[200, 84, 0, 10, 12]\n",
      "Message from arduino: \n",
      "[37.0, 1.0]\n",
      "Python value sent: \n",
      "[200, 84, 0, 10, 12]\n",
      "Message from arduino: \n",
      "[41.0, 0.0]\n",
      "Python value sent: \n",
      "[200, 84, 0, 10, 12]\n",
      "Message from arduino: \n",
      "[45.0, 1.0]\n",
      "Python value sent: \n",
      "[200, 84, 0, 10, 12]\n",
      "Message from arduino: \n",
      "[50.0, 1.0]\n",
      "Python value sent: \n",
      "[200, 84, 0, 10, 12]\n",
      "Message from arduino: \n",
      "[55.0, 5.0]\n",
      "Python value sent: \n",
      "[200, 84, 0, 10, 12]\n",
      "Message from arduino: \n",
      "[59.0, 3.0]\n",
      "Python value sent: \n",
      "[200, 84, 0, 10, 12]\n",
      "Message from arduino: \n",
      "[64.0, 6.0]\n",
      "Python value sent: \n",
      "[200, 84, 0, 10, 12]\n",
      "Message from arduino: \n",
      "[68.0, 4.0]\n",
      "Python value sent: \n",
      "[200, 84, 0, 10, 12]\n",
      "Message from arduino: \n",
      "[71.0, 3.0]\n",
      "Python value sent: \n",
      "[200, 84, 0, 10, 12]\n",
      "Message from arduino: \n",
      "[74.0, 2.0]\n",
      "Python value sent: \n",
      "[200, 84, 0, 10, 12]\n",
      "Message from arduino: \n",
      "[77.0, 0.0]\n",
      "Python value sent: \n",
      "[200, 84, 0, 10, 12]\n",
      "Message from arduino: \n",
      "[81.0, 2.0]\n",
      "Python value sent: \n",
      "[200, 84, 0, 10, 12]\n",
      "Message from arduino: \n",
      "[84.0, 2.0]\n",
      "Python value sent: \n",
      "[200, 84, 0, 10, 12]\n",
      "Message from arduino: \n",
      "[87.0, 7.0]\n",
      "Python value sent: \n",
      "[200, 84, 0, 10, 12]\n",
      "Message from arduino: \n",
      "[92.0, 3.0]\n",
      "Python value sent: \n",
      "[200, 84, 0, 10, 12]\n",
      "Message from arduino: \n",
      "[96.0, 9.0]\n",
      "Python value sent: \n",
      "[200, 84, 0, 10, 12]\n",
      "Message from arduino: \n",
      "[99.0, 1.0]\n",
      "Python value sent: \n",
      "[200, 84, 0, 10, 12]\n",
      "Message from arduino: \n",
      "[104.0, 8.0]\n",
      "Python value sent: \n",
      "[200, 84, 0, 10, 12]\n",
      "Message from arduino: \n",
      "[108.0, 5.0]\n",
      "Python value sent: \n",
      "[200, 84, 0, 10, 12]\n",
      "Message from arduino: \n",
      "[113.0, 2.0]\n",
      "Python value sent: \n",
      "[200, 84, 0, 10, 12]\n"
     ]
    },
    {
     "ename": "KeyboardInterrupt",
     "evalue": "",
     "output_type": "error",
     "traceback": [
      "\u001b[0;31m---------------------------------------------------------------------------\u001b[0m",
      "\u001b[0;31mKeyboardInterrupt\u001b[0m                         Traceback (most recent call last)",
      "\u001b[0;32m<ipython-input-5-0861d99d539c>\u001b[0m in \u001b[0;36m<module>\u001b[0;34m()\u001b[0m\n\u001b[1;32m      8\u001b[0m \u001b[0;34m\u001b[0m\u001b[0m\n\u001b[1;32m      9\u001b[0m     \u001b[0;31m# Serial read section\u001b[0m\u001b[0;34m\u001b[0m\u001b[0;34m\u001b[0m\u001b[0m\n\u001b[0;32m---> 10\u001b[0;31m     \u001b[0mmsg\u001b[0m \u001b[0;34m=\u001b[0m \u001b[0mser\u001b[0m\u001b[0;34m.\u001b[0m\u001b[0mreadline\u001b[0m\u001b[0;34m(\u001b[0m\u001b[0;34m)\u001b[0m \u001b[0;31m# read everything in the input buffer\u001b[0m\u001b[0;34m\u001b[0m\u001b[0m\n\u001b[0m\u001b[1;32m     11\u001b[0m     \u001b[0mprint\u001b[0m \u001b[0;34m(\u001b[0m\u001b[0;34m\"Message from arduino: \"\u001b[0m\u001b[0;34m)\u001b[0m\u001b[0;34m\u001b[0m\u001b[0m\n\u001b[1;32m     12\u001b[0m \u001b[0;31m#     print (msg)\u001b[0m\u001b[0;34m\u001b[0m\u001b[0;34m\u001b[0m\u001b[0m\n",
      "\u001b[0;32m/usr/local/lib/python3.5/dist-packages/serial/serialposix.py\u001b[0m in \u001b[0;36mread\u001b[0;34m(self, size)\u001b[0m\n\u001b[1;32m    470\u001b[0m         \u001b[0;32mwhile\u001b[0m \u001b[0mlen\u001b[0m\u001b[0;34m(\u001b[0m\u001b[0mread\u001b[0m\u001b[0;34m)\u001b[0m \u001b[0;34m<\u001b[0m \u001b[0msize\u001b[0m\u001b[0;34m:\u001b[0m\u001b[0;34m\u001b[0m\u001b[0m\n\u001b[1;32m    471\u001b[0m             \u001b[0;32mtry\u001b[0m\u001b[0;34m:\u001b[0m\u001b[0;34m\u001b[0m\u001b[0m\n\u001b[0;32m--> 472\u001b[0;31m                 \u001b[0mready\u001b[0m\u001b[0;34m,\u001b[0m \u001b[0m_\u001b[0m\u001b[0;34m,\u001b[0m \u001b[0m_\u001b[0m \u001b[0;34m=\u001b[0m \u001b[0mselect\u001b[0m\u001b[0;34m.\u001b[0m\u001b[0mselect\u001b[0m\u001b[0;34m(\u001b[0m\u001b[0;34m[\u001b[0m\u001b[0mself\u001b[0m\u001b[0;34m.\u001b[0m\u001b[0mfd\u001b[0m\u001b[0;34m,\u001b[0m \u001b[0mself\u001b[0m\u001b[0;34m.\u001b[0m\u001b[0mpipe_abort_read_r\u001b[0m\u001b[0;34m]\u001b[0m\u001b[0;34m,\u001b[0m \u001b[0;34m[\u001b[0m\u001b[0;34m]\u001b[0m\u001b[0;34m,\u001b[0m \u001b[0;34m[\u001b[0m\u001b[0;34m]\u001b[0m\u001b[0;34m,\u001b[0m \u001b[0mtimeout\u001b[0m\u001b[0;34m.\u001b[0m\u001b[0mtime_left\u001b[0m\u001b[0;34m(\u001b[0m\u001b[0;34m)\u001b[0m\u001b[0;34m)\u001b[0m\u001b[0;34m\u001b[0m\u001b[0m\n\u001b[0m\u001b[1;32m    473\u001b[0m                 \u001b[0;32mif\u001b[0m \u001b[0mself\u001b[0m\u001b[0;34m.\u001b[0m\u001b[0mpipe_abort_read_r\u001b[0m \u001b[0;32min\u001b[0m \u001b[0mready\u001b[0m\u001b[0;34m:\u001b[0m\u001b[0;34m\u001b[0m\u001b[0m\n\u001b[1;32m    474\u001b[0m                     \u001b[0mos\u001b[0m\u001b[0;34m.\u001b[0m\u001b[0mread\u001b[0m\u001b[0;34m(\u001b[0m\u001b[0mself\u001b[0m\u001b[0;34m.\u001b[0m\u001b[0mpipe_abort_read_r\u001b[0m\u001b[0;34m,\u001b[0m \u001b[0;36m1000\u001b[0m\u001b[0;34m)\u001b[0m\u001b[0;34m\u001b[0m\u001b[0m\n",
      "\u001b[0;31mKeyboardInterrupt\u001b[0m: "
     ]
    }
   ],
   "source": [
    "while True:\n",
    "    # Serial write section\n",
    "    print (\"Python value sent: \")\n",
    "    print ([desiredTemp, desiredSpeed, onOff, P, I])\n",
    "    ser.write(bytearray([desiredTemp, desiredSpeed, onOff, P, I]))\n",
    "#     time.sleep(3) # with the port open, the response will be buffered \n",
    "#                   # so wait a bit longer for response here\n",
    "\n",
    "    # Serial read section\n",
    "    msg = ser.readline() # read everything in the input buffer\n",
    "    print (\"Message from arduino: \")\n",
    "#     print (msg)\n",
    "    print (bitsToNumberList(msg))"
   ]
  },
  {
   "cell_type": "code",
   "execution_count": 6,
   "metadata": {
    "collapsed": false
   },
   "outputs": [
    {
     "data": {
      "text/plain": [
       "False"
      ]
     },
     "execution_count": 6,
     "metadata": {},
     "output_type": "execute_result"
    }
   ],
   "source": [
    "ser.close()\n",
    "ser.is_open"
   ]
  },
  {
   "cell_type": "code",
   "execution_count": null,
   "metadata": {
    "collapsed": true
   },
   "outputs": [],
   "source": []
  }
 ],
 "metadata": {
  "kernelspec": {
   "display_name": "Python 3",
   "language": "python",
   "name": "python3"
  },
  "language_info": {
   "codemirror_mode": {
    "name": "ipython",
    "version": 3
   },
   "file_extension": ".py",
   "mimetype": "text/x-python",
   "name": "python",
   "nbconvert_exporter": "python",
   "pygments_lexer": "ipython3",
   "version": "3.5.2"
  }
 },
 "nbformat": 4,
 "nbformat_minor": 1
}
